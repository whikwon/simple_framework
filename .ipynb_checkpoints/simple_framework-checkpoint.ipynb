{
 "cells": [
  {
   "cell_type": "markdown",
   "metadata": {},
   "source": [
    "## Packages\n",
    "\n",
    "1. module은 폴더 hierarchy에 따라서 . .. 으로 타고 들어가서 불러올 수 있다.\n",
    "2. 다른 폴더의 경우에는 처음 package 이름으로부터 타고 들어가서 불러와야 한다.\n",
    "3. class에 decorator가 있는 경우에 선언되는 순간 decorator가 class를 인자로 받아서 실행된다."
   ]
  },
  {
   "cell_type": "code",
   "execution_count": 1,
   "metadata": {},
   "outputs": [],
   "source": [
    "%load_ext autoreload\n",
    "%autoreload 2"
   ]
  },
  {
   "cell_type": "code",
   "execution_count": 2,
   "metadata": {},
   "outputs": [
    {
     "name": "stdout",
     "output_type": "stream",
     "text": [
      "mmdet initialized\n",
      "registry initialized\n",
      "base initialized\n",
      "two_stage initilized\n",
      "mod_class: <class 'mmdet.models.detectors.two_stage.TwoStageDetector'>\n",
      "TwoStageDetector registered\n",
      "mod_class: <class 'mmdet.models.detectors.two_stage.TwoStageDetector'>\n",
      "anchor_target initialzed\n",
      "anchor initialized\n",
      "core initialized\n",
      "faster_rcnn loaded\n",
      "mod_class: <class 'mmdet.models.detectors.faster_rcnn.FasterRCNN'>\n",
      "FasterRCNN registered\n",
      "mod_class: <class 'mmdet.models.detectors.faster_rcnn.FasterRCNN'>\n",
      "retinanet loaded\n",
      "detector initialized\n",
      "model initialized\n"
     ]
    }
   ],
   "source": [
    "from mmdet.models import DETECTORS"
   ]
  },
  {
   "cell_type": "code",
   "execution_count": 3,
   "metadata": {},
   "outputs": [
    {
     "data": {
      "text/plain": [
       "{'TwoStageDetector': mmdet.models.detectors.two_stage.TwoStageDetector,\n",
       " 'FasterRCNN': mmdet.models.detectors.faster_rcnn.FasterRCNN}"
      ]
     },
     "execution_count": 3,
     "metadata": {},
     "output_type": "execute_result"
    }
   ],
   "source": [
    "DETECTORS._module_dict"
   ]
  }
 ],
 "metadata": {
  "kernelspec": {
   "display_name": "biorobot",
   "language": "python",
   "name": "biorobot"
  },
  "language_info": {
   "codemirror_mode": {
    "name": "ipython",
    "version": 3
   },
   "file_extension": ".py",
   "mimetype": "text/x-python",
   "name": "python",
   "nbconvert_exporter": "python",
   "pygments_lexer": "ipython3",
   "version": "3.6.6"
  }
 },
 "nbformat": 4,
 "nbformat_minor": 2
}
